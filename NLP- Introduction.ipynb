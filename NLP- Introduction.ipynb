{
 "cells": [
  {
   "cell_type": "markdown",
   "metadata": {},
   "source": [
    "# NLP - Natural Language processing"
   ]
  },
  {
   "cell_type": "markdown",
   "metadata": {},
   "source": [
    "# RegEx - Regular Expressions(re)"
   ]
  },
  {
   "cell_type": "markdown",
   "metadata": {},
   "source": [
    "Simply put, regular expression or regex is a sequence of character(s) mainly used to find and replace patterns in a string or file. Hence, they are pretty handy in NLP tasks.\n",
    "\n",
    "Some of the common uses of regular expressions are:\n",
    "\n",
    "* Search a string\n",
    "* Finding a string\n",
    "* Replace part of a string\n"
   ]
  },
  {
   "cell_type": "markdown",
   "metadata": {},
   "source": [
    "# What are regualr Expressions\n",
    "* RegEx are patterns of special characters having an associated meaning( ex: \"\\d\":\"Numbers\")\n",
    "* They are also called wildcard expressions used for matching, searching and parsing strings\n",
    "* Used for writing rule based information mining systems"
   ]
  },
  {
   "cell_type": "markdown",
   "metadata": {},
   "source": [
    "# Applications of Regular Expressiosn"
   ]
  },
  {
   "cell_type": "markdown",
   "metadata": {},
   "source": [
    "* Segmentation of words from sentences\n",
    "* Segmentation of sentences from paragraphs\n",
    "* It is also used for text-cleaning, to remove unnecessary noise present in the text data.\n",
    "* To retrive keyeords from text data(ex: chatbots, search engine query etc..)\n",
    "\n",
    "This process of segmenting is called TOKENIZATION"
   ]
  },
  {
   "cell_type": "markdown",
   "metadata": {},
   "source": [
    "# Types of Regular Expressiosn"
   ]
  },
  {
   "cell_type": "markdown",
   "metadata": {},
   "source": [
    "* abc : used to match letters\n",
    "* 123 : used to match digits\n",
    "* \\d  : used to match any digit\n",
    "* \\D  : used to match any non-digit character\n",
    "* .   : used to match any character \n",
    "* \\.  : used to match period\n",
    "* [abc] : used to match only a ,b or c\n",
    "* [^abc] : used to match not a ,b nor c\n",
    "* [a-z]: Characters a to z\n",
    "* [0-9]: Numbers 0 to 9\n",
    "* \\w : Any alphanumeric character\n",
    "* \\W : Any non-alphanumeric character"
   ]
  },
  {
   "cell_type": "markdown",
   "metadata": {},
   "source": [
    "Commonly used regular expression functions from \"re\" python library\n",
    "\n",
    "* match : finds fisrt occurrence ofa pattern in the string\n",
    "* search: locates a pattern anywhere in the string\n",
    "* find all: find all the occurrances of a pattern in the string\n",
    "* sub: used to seach and replace a pattern in the string\n",
    "* split: is used to split the text by a given RegEx pattern"
   ]
  },
  {
   "cell_type": "markdown",
   "metadata": {},
   "source": [
    "* ^ Carat, matches a term if the term appears at the beginning of a paragraph or a line. For example, the below regex matches a paragraph or a line starts with Apple.\n",
    "\n",
    "* ^Apple"
   ]
  },
  {
   "cell_type": "markdown",
   "metadata": {},
   "source": [
    "* ^ Carat inside a bracket, for example, the below regex matches any characters but a, b, c, d, e.\n",
    "\n",
    "\n",
    "* [^a-e]"
   ]
  },
  {
   "cell_type": "markdown",
   "metadata": {},
   "source": [
    "* $ Dollar sign, matches a term if the term appears at the end of a paragraph or a line. For example, the below regex matches a paragraph or a line ends with bye.\n",
    "\n",
    "* bye$"
   ]
  },
  {
   "cell_type": "markdown",
   "metadata": {},
   "source": [
    "* [] Square brackets, matches any single character from within the bracketed list. For example, the below regex matches bad, bed, bcd, brd, and bod.\n",
    "\n",
    "* b[aecro]d"
   ]
  },
  {
   "cell_type": "markdown",
   "metadata": {},
   "source": [
    "# Implementing RegEx in Python"
   ]
  },
  {
   "cell_type": "code",
   "execution_count": 23,
   "metadata": {},
   "outputs": [
    {
     "name": "stdout",
     "output_type": "stream",
     "text": [
      "<re.Match object; span=(0, 5), match='Tiger'>\n",
      "Tiger\n",
      "\n",
      "\n",
      " None\n"
     ]
    }
   ],
   "source": [
    "# import \"re\" library \n",
    "import re\n",
    "\n",
    "string='Tiger is the national animal of India'\n",
    "pattern='Tiger'\n",
    "result=re.match(pattern,string)\n",
    "print(result)\n",
    "print(result.group(0))\n",
    "\n",
    "    # We us group() method to get all the matches and  \n",
    "    # captured groups. The groups contain the matched values.  \n",
    "    # In particular:  \n",
    "    # match.group(0) always returns the fully matched string  \n",
    "    # match.group(1) match.group(2), ... return the capture  \n",
    "    # groups in order from left to right in the input string  \n",
    "    # match.group() is equivalent to match.group(0) \n",
    "\n",
    "string='National animal of India is Tiger'\n",
    "pattern='Tiger'\n",
    "result=re.match(pattern,string)\n",
    "print(\"\\n\\n\",result)\n",
    "# print(result.group(0)) "
   ]
  },
  {
   "cell_type": "code",
   "execution_count": 25,
   "metadata": {},
   "outputs": [
    {
     "name": "stdout",
     "output_type": "stream",
     "text": [
      "<re.Match object; span=(0, 5), match='Tiger'>\n",
      "Tiger\n"
     ]
    }
   ],
   "source": [
    "string='Tiger is the national animal of India. I love Tiger!'\n",
    "pattern='Tiger'\n",
    "result=re.search(pattern,string)\n",
    "print(result)\n",
    "print(result.group())\n",
    "\n",
    "# search returns only one occurance though it has more than one"
   ]
  },
  {
   "cell_type": "code",
   "execution_count": 29,
   "metadata": {},
   "outputs": [
    {
     "name": "stdout",
     "output_type": "stream",
     "text": [
      "['Tiger', 'Tiger']\n"
     ]
    }
   ],
   "source": [
    "string='Tiger is the national animal of India. I love Tiger!'\n",
    "pattern='Tiger'\n",
    "result=re.findall(pattern,string)\n",
    "print(result)\n"
   ]
  },
  {
   "cell_type": "code",
   "execution_count": 32,
   "metadata": {},
   "outputs": [
    {
     "name": "stdout",
     "output_type": "stream",
     "text": [
      "['12-11-2019', '01-01-2021', '01-06-2000']\n"
     ]
    }
   ],
   "source": [
    "# to find dates in thr text\n",
    "string= 'Manu 23-24 12-11-2019, John 34-35 01-01-2021 and munna 01-06-20004'\n",
    "pattern=r'\\d{2}-\\d{2}-\\d{4}'\n",
    "result=re.findall(pattern,string)\n",
    "print(result)"
   ]
  },
  {
   "cell_type": "code",
   "execution_count": 35,
   "metadata": {},
   "outputs": [
    {
     "name": "stdout",
     "output_type": "stream",
     "text": [
      "['this', 'is', 'a', 'sample', 'text', 'string']\n",
      "<class 'list'>\n"
     ]
    }
   ],
   "source": [
    "#splitting\n",
    "string='this,is;a,sample,text string'\n",
    "pattern=r'[,;\\s]'\n",
    "result=re.split(pattern,string)\n",
    "print(result)\n",
    "print(type(result))"
   ]
  },
  {
   "cell_type": "code",
   "execution_count": 37,
   "metadata": {},
   "outputs": [
    {
     "name": "stdout",
     "output_type": "stream",
     "text": [
      "Football is the popular sport in the world\n"
     ]
    }
   ],
   "source": [
    "string='Football is the popular sport in Spain'\n",
    "pattern='Spain'\n",
    "replacement='the world'\n",
    "result=re.sub(pattern,replacement,string)\n",
    "print(result)"
   ]
  },
  {
   "cell_type": "markdown",
   "metadata": {},
   "source": [
    "# First step of NLP - Text pre-processing"
   ]
  },
  {
   "cell_type": "markdown",
   "metadata": {},
   "source": [
    "In order to work with text data, it is necessary to transform the raw text into something a machine learning algorithm can digest. This is the main objective of text pre-processing."
   ]
  },
  {
   "cell_type": "markdown",
   "metadata": {},
   "source": [
    "* Corpus: defined as the collection of documents of text data\n",
    "* * corpus>documents>paragraphs>sentences>words(tokens)\n",
    "* Tokns: Smaller units of word, It can word, phrases, or Ngrams\n",
    "* Ngrams: defined as the group of N words together(ex: UNIgram:'manu', BIgram:'MAnu Munna', 4gram;'MANU MADHU MUNNA PIMMU')\n",
    "    sentence: I love my phone\n",
    "        UNIgram: I,Love,My,Phone\n",
    "        BUgram: I Love, Love My, MY Phone \n",
    "        TRIgrams: I Love my, Love my Phone\n",
    "* Ngrams are very useful in text-classification tasks\n"
   ]
  },
  {
   "cell_type": "markdown",
   "metadata": {},
   "source": [
    "# Tokenization"
   ]
  },
  {
   "cell_type": "markdown",
   "metadata": {},
   "source": [
    "* Process of splitting a text object into smaller units(tokens) is called Tokenization\n",
    "* smaller units: words, numbers, symbols, Ngrams, characters\n",
    "* Most commonly used Tokenization method is WHITE space Tokenization, in which text is split into words(UNIgrams) <br>\n",
    "** text='I love India' <br>\n",
    "** Tokens= 'I','Love','India' <br>\n",
    "* Other tokenization methods are using RegEx patterns <br>\n",
    "** text='I love;India' <br>\n",
    "** splitting pattern=r'[;,\\s]'<br>\n",
    "** Tokens= 'I','Love','India'\n",
    "\n",
    "* Tokenizationn acan be performed at the sentence level, paragraph level, word levl or even at the character level"
   ]
  },
  {
   "cell_type": "markdown",
   "metadata": {},
   "source": [
    "# Normalization"
   ]
  },
  {
   "cell_type": "markdown",
   "metadata": {},
   "source": [
    "* In the field of lingusitic and NLP, the MORPHENE is defined as the base form of tne word\n",
    "* Token: <prefix><MORPHENE><Suffix> , MORPHENE is attached with Inflectinal forms(prefix and suffix)\n",
    "** Ex: Antinationalist : <Anti><National><ist>\n",
    "* NORMALIZATION is the process of converting a token into its BASE form\n",
    "* During normalization, inflectional parts are removed to extract only MORPHENE -base form\n",
    "* It is helpful in dimensionality reduction, text-cleaning, removing redundant info, remove variations of text, and reduce unique tokens\n",
    "* Types:<br>\n",
    "** Stemming <br>\n",
    "** Lemmatization"
   ]
  },
  {
   "cell_type": "markdown",
   "metadata": {},
   "source": [
    "# Stemming"
   ]
  },
  {
   "cell_type": "markdown",
   "metadata": {},
   "source": [
    "* It is an elimentary rule based process for rmoving inflectinal parts from a token\n",
    "* Outpuths the stem of a word <br>\n",
    "** studies -studi es studi <br>\n",
    "** laughed -laugh ed laugh<br>\n",
    "** studying -study ing study<br>\n",
    "* Stemming is not a good normalization process , because sometimes it can produce non-meaningful words which are not present in the dictionary <br>\n",
    "** winning -winn ing winn , winn is meaningless<br>\n",
    "** increases increas es increas , increas is meaningless<br>"
   ]
  },
  {
   "cell_type": "markdown",
   "metadata": {},
   "source": [
    "# Lemmatization"
   ]
  },
  {
   "cell_type": "markdown",
   "metadata": {},
   "source": [
    "* It is a systematic step by step process for reducing token to its LEMMA, removing inflectional parts\n",
    "* It makes use of grammar, vocabulary, word structure, parts of speech tags and grmmar relations\n",
    "* output of Lemmatization is the root word called LEMMA <br>\n",
    "** am>are>is : be(LEMMA)<br>\n",
    "** running>ran>runs>run :run(ROOT word)\n",
    "* Since it is a systematic process onecna specify the part of speech tag(POS) tag while performing Lemmatization for the desired word\n",
    "* Lemmatization will be performed only if the word as poper part of speech tag\n",
    "** running,'verb' :run\n",
    "** running,'noun' :running (Lemmatization is not performed)"
   ]
  },
  {
   "cell_type": "markdown",
   "metadata": {},
   "source": [
    "# Exploring Text Data"
   ]
  },
  {
   "cell_type": "markdown",
   "metadata": {},
   "source": [
    "Working with text is generally more challenging than working with numerical data. Hence, any kind of technique that helps in generating an intuition of the existing dataset is welcome. One of the simplest approach to understand any text document or to compare multiple documents can be to compute a frequency table of individual words present in the document/documents and use it to conduct further experiements like: finding top words per document, finding top common words among documents etc.\n",
    "\n",
    "In our case, we have taken the challenge of Analyzing Sentiments from Twitter data, so we will focus on how to generate word frequencies and use it to create Word Clouds in Python that will help us get a better overall understanding of the dataset."
   ]
  },
  {
   "cell_type": "markdown",
   "metadata": {},
   "source": [
    "# 1. About the Dataset"
   ]
  },
  {
   "cell_type": "markdown",
   "metadata": {},
   "source": [
    "Let's load the dataset using pandas and have a quick look at some sample tweets."
   ]
  },
  {
   "cell_type": "code",
   "execution_count": 44,
   "metadata": {},
   "outputs": [
    {
     "data": {
      "text/html": [
       "<div>\n",
       "<style scoped>\n",
       "    .dataframe tbody tr th:only-of-type {\n",
       "        vertical-align: middle;\n",
       "    }\n",
       "\n",
       "    .dataframe tbody tr th {\n",
       "        vertical-align: top;\n",
       "    }\n",
       "\n",
       "    .dataframe thead th {\n",
       "        text-align: right;\n",
       "    }\n",
       "</style>\n",
       "<table border=\"1\" class=\"dataframe\">\n",
       "  <thead>\n",
       "    <tr style=\"text-align: right;\">\n",
       "      <th></th>\n",
       "      <th>Unnamed: 0</th>\n",
       "      <th>X</th>\n",
       "      <th>text</th>\n",
       "      <th>favorited</th>\n",
       "      <th>favoriteCount</th>\n",
       "      <th>replyToSN</th>\n",
       "      <th>created</th>\n",
       "      <th>truncated</th>\n",
       "      <th>replyToSID</th>\n",
       "      <th>id</th>\n",
       "      <th>replyToUID</th>\n",
       "      <th>statusSource</th>\n",
       "      <th>screenName</th>\n",
       "      <th>retweetCount</th>\n",
       "      <th>isRetweet</th>\n",
       "      <th>retweeted</th>\n",
       "    </tr>\n",
       "  </thead>\n",
       "  <tbody>\n",
       "    <tr>\n",
       "      <td>0</td>\n",
       "      <td>1</td>\n",
       "      <td>1</td>\n",
       "      <td>RT @rssurjewala: Critical question: Was PayTM ...</td>\n",
       "      <td>False</td>\n",
       "      <td>0</td>\n",
       "      <td>NaN</td>\n",
       "      <td>2016-11-23 18:40:30</td>\n",
       "      <td>False</td>\n",
       "      <td>NaN</td>\n",
       "      <td>8.014957e+17</td>\n",
       "      <td>NaN</td>\n",
       "      <td>&lt;a href=\"http://twitter.com/download/android\" ...</td>\n",
       "      <td>HASHTAGFARZIWAL</td>\n",
       "      <td>331</td>\n",
       "      <td>True</td>\n",
       "      <td>False</td>\n",
       "    </tr>\n",
       "    <tr>\n",
       "      <td>1</td>\n",
       "      <td>2</td>\n",
       "      <td>2</td>\n",
       "      <td>RT @Hemant_80: Did you vote on #Demonetization...</td>\n",
       "      <td>False</td>\n",
       "      <td>0</td>\n",
       "      <td>NaN</td>\n",
       "      <td>2016-11-23 18:40:29</td>\n",
       "      <td>False</td>\n",
       "      <td>NaN</td>\n",
       "      <td>8.014957e+17</td>\n",
       "      <td>NaN</td>\n",
       "      <td>&lt;a href=\"http://twitter.com/download/android\" ...</td>\n",
       "      <td>PRAMODKAUSHIK9</td>\n",
       "      <td>66</td>\n",
       "      <td>True</td>\n",
       "      <td>False</td>\n",
       "    </tr>\n",
       "    <tr>\n",
       "      <td>2</td>\n",
       "      <td>3</td>\n",
       "      <td>3</td>\n",
       "      <td>RT @roshankar: Former FinSec, RBI Dy Governor,...</td>\n",
       "      <td>False</td>\n",
       "      <td>0</td>\n",
       "      <td>NaN</td>\n",
       "      <td>2016-11-23 18:40:03</td>\n",
       "      <td>False</td>\n",
       "      <td>NaN</td>\n",
       "      <td>8.014955e+17</td>\n",
       "      <td>NaN</td>\n",
       "      <td>&lt;a href=\"http://twitter.com/download/android\" ...</td>\n",
       "      <td>rahulja13034944</td>\n",
       "      <td>12</td>\n",
       "      <td>True</td>\n",
       "      <td>False</td>\n",
       "    </tr>\n",
       "    <tr>\n",
       "      <td>3</td>\n",
       "      <td>4</td>\n",
       "      <td>4</td>\n",
       "      <td>RT @ANI_news: Gurugram (Haryana): Post office ...</td>\n",
       "      <td>False</td>\n",
       "      <td>0</td>\n",
       "      <td>NaN</td>\n",
       "      <td>2016-11-23 18:39:59</td>\n",
       "      <td>False</td>\n",
       "      <td>NaN</td>\n",
       "      <td>8.014955e+17</td>\n",
       "      <td>NaN</td>\n",
       "      <td>&lt;a href=\"http://twitter.com/download/android\" ...</td>\n",
       "      <td>deeptiyvd</td>\n",
       "      <td>338</td>\n",
       "      <td>True</td>\n",
       "      <td>False</td>\n",
       "    </tr>\n",
       "    <tr>\n",
       "      <td>4</td>\n",
       "      <td>5</td>\n",
       "      <td>5</td>\n",
       "      <td>RT @satishacharya: Reddy Wedding! @mail_today ...</td>\n",
       "      <td>False</td>\n",
       "      <td>0</td>\n",
       "      <td>NaN</td>\n",
       "      <td>2016-11-23 18:39:39</td>\n",
       "      <td>False</td>\n",
       "      <td>NaN</td>\n",
       "      <td>8.014954e+17</td>\n",
       "      <td>NaN</td>\n",
       "      <td>&lt;a href=\"http://cpimharyana.com\" rel=\"nofollow...</td>\n",
       "      <td>CPIMBadli</td>\n",
       "      <td>120</td>\n",
       "      <td>True</td>\n",
       "      <td>False</td>\n",
       "    </tr>\n",
       "  </tbody>\n",
       "</table>\n",
       "</div>"
      ],
      "text/plain": [
       "   Unnamed: 0  X                                               text  \\\n",
       "0           1  1  RT @rssurjewala: Critical question: Was PayTM ...   \n",
       "1           2  2  RT @Hemant_80: Did you vote on #Demonetization...   \n",
       "2           3  3  RT @roshankar: Former FinSec, RBI Dy Governor,...   \n",
       "3           4  4  RT @ANI_news: Gurugram (Haryana): Post office ...   \n",
       "4           5  5  RT @satishacharya: Reddy Wedding! @mail_today ...   \n",
       "\n",
       "   favorited  favoriteCount replyToSN              created  truncated  \\\n",
       "0      False              0       NaN  2016-11-23 18:40:30      False   \n",
       "1      False              0       NaN  2016-11-23 18:40:29      False   \n",
       "2      False              0       NaN  2016-11-23 18:40:03      False   \n",
       "3      False              0       NaN  2016-11-23 18:39:59      False   \n",
       "4      False              0       NaN  2016-11-23 18:39:39      False   \n",
       "\n",
       "   replyToSID            id  replyToUID  \\\n",
       "0         NaN  8.014957e+17         NaN   \n",
       "1         NaN  8.014957e+17         NaN   \n",
       "2         NaN  8.014955e+17         NaN   \n",
       "3         NaN  8.014955e+17         NaN   \n",
       "4         NaN  8.014954e+17         NaN   \n",
       "\n",
       "                                        statusSource       screenName  \\\n",
       "0  <a href=\"http://twitter.com/download/android\" ...  HASHTAGFARZIWAL   \n",
       "1  <a href=\"http://twitter.com/download/android\" ...   PRAMODKAUSHIK9   \n",
       "2  <a href=\"http://twitter.com/download/android\" ...  rahulja13034944   \n",
       "3  <a href=\"http://twitter.com/download/android\" ...        deeptiyvd   \n",
       "4  <a href=\"http://cpimharyana.com\" rel=\"nofollow...        CPIMBadli   \n",
       "\n",
       "   retweetCount  isRetweet  retweeted  \n",
       "0           331       True      False  \n",
       "1            66       True      False  \n",
       "2            12       True      False  \n",
       "3           338       True      False  \n",
       "4           120       True      False  "
      ]
     },
     "execution_count": 44,
     "metadata": {},
     "output_type": "execute_result"
    }
   ],
   "source": [
    "# load the dataset\n",
    "import pandas as pd\n",
    "dataset=pd.read_csv('tweets.csv',encoding='ISO-8859-1')\n",
    "dataset.head()"
   ]
  },
  {
   "cell_type": "code",
   "execution_count": 46,
   "metadata": {},
   "outputs": [
    {
     "data": {
      "text/plain": [
       "Index(['Unnamed: 0', 'X', 'text', 'favorited', 'favoriteCount', 'replyToSN',\n",
       "       'created', 'truncated', 'replyToSID', 'id', 'replyToUID',\n",
       "       'statusSource', 'screenName', 'retweetCount', 'isRetweet', 'retweeted'],\n",
       "      dtype='object')"
      ]
     },
     "execution_count": 46,
     "metadata": {},
     "output_type": "execute_result"
    }
   ],
   "source": [
    "dataset.columns"
   ]
  },
  {
   "cell_type": "code",
   "execution_count": 47,
   "metadata": {},
   "outputs": [
    {
     "data": {
      "text/plain": [
       "Unnamed: 0         int64\n",
       "X                  int64\n",
       "text              object\n",
       "favorited           bool\n",
       "favoriteCount      int64\n",
       "replyToSN         object\n",
       "created           object\n",
       "truncated           bool\n",
       "replyToSID       float64\n",
       "id               float64\n",
       "replyToUID       float64\n",
       "statusSource      object\n",
       "screenName        object\n",
       "retweetCount       int64\n",
       "isRetweet           bool\n",
       "retweeted           bool\n",
       "dtype: object"
      ]
     },
     "execution_count": 47,
     "metadata": {},
     "output_type": "execute_result"
    }
   ],
   "source": [
    "dataset.dtypes"
   ]
  },
  {
   "cell_type": "markdown",
   "metadata": {},
   "source": [
    "As can be seen above, text column is of interest to us as it contains the tweet.  Let's go ahead and inspect some of the tweets."
   ]
  },
  {
   "cell_type": "markdown",
   "metadata": {},
   "source": [
    "# 2. Generating Word Frequency"
   ]
  },
  {
   "cell_type": "markdown",
   "metadata": {},
   "source": [
    "Let's first generate a frequency table of all the words present in all the tweets combined."
   ]
  },
  {
   "cell_type": "code",
   "execution_count": 69,
   "metadata": {},
   "outputs": [
    {
     "data": {
      "text/plain": [
       "RT               11053\n",
       "to                7650\n",
       "is                5152\n",
       "in                4491\n",
       "the               4331\n",
       "                 ...  \n",
       "@UNinBrussels        1\n",
       "#politicians         1\n",
       "accompanied          1\n",
       "Sector,              1\n",
       "did.                 1\n",
       "Length: 19601, dtype: int64"
      ]
     },
     "execution_count": 69,
     "metadata": {},
     "output_type": "execute_result"
    }
   ],
   "source": [
    "def gen_freq(text):\n",
    "    # will store the list of words, empty list at first\n",
    "    word_list=[]\n",
    "    \n",
    "    #loop over all the tweets and extract words into word_list\n",
    "    for tw_words in text.split():\n",
    "        word_list.extend(tw_words)\n",
    "    \n",
    "    # create word frequencies using word_list\n",
    "    word_freq=pd.Series(word_list).value_counts()\n",
    "    \n",
    "    # print top 20 words\n",
    "    word_freq[:20]\n",
    "    \n",
    "    return word_freq\n",
    "\n",
    "gen_freq(dataset.text.str)"
   ]
  },
  {
   "cell_type": "code",
   "execution_count": 52,
   "metadata": {},
   "outputs": [
    {
     "name": "stdout",
     "output_type": "stream",
     "text": [
      "<class 'pandas.core.series.Series'>\n",
      "\n",
      "\n",
      " <class 'pandas.core.strings.StringMethods'>\n"
     ]
    }
   ],
   "source": [
    "print(type(dataset.text)); print(\"\\n\\n\",type(dataset.text.str)) "
   ]
  },
  {
   "cell_type": "code",
   "execution_count": 60,
   "metadata": {},
   "outputs": [
    {
     "name": "stdout",
     "output_type": "stream",
     "text": [
      "0        RT @rssurjewala: Critical question: Was PayTM ...\n",
      "1        RT @Hemant_80: Did you vote on #Demonetization...\n",
      "2        RT @roshankar: Former FinSec, RBI Dy Governor,...\n",
      "3        RT @ANI_news: Gurugram (Haryana): Post office ...\n",
      "4        RT @satishacharya: Reddy Wedding! @mail_today ...\n",
      "                               ...                        \n",
      "14935    RT @saxenavishakha: Ghost of demonetization re...\n",
      "14936    N d modi fans-d true nationalists of the count...\n",
      "14937    RT @bharat_builder: Lol. Demonetization has fi...\n",
      "14938    RT @Stupidosaur: @Vidyut B team of BJP. CIA ba...\n",
      "14939    @Vidyut B team of BJP. CIA baby. CCTV, EVM but...\n",
      "Name: text, Length: 14940, dtype: object\n"
     ]
    }
   ],
   "source": [
    "print(dataset.text)"
   ]
  },
  {
   "cell_type": "code",
   "execution_count": 56,
   "metadata": {},
   "outputs": [
    {
     "data": {
      "text/plain": [
       "0        [RT, @rssurjewala:, Critical, question:, Was, ...\n",
       "1        [RT, @Hemant_80:, Did, you, vote, on, #Demonet...\n",
       "2        [RT, @roshankar:, Former, FinSec,, RBI, Dy, Go...\n",
       "3        [RT, @ANI_news:, Gurugram, (Haryana):, Post, o...\n",
       "4        [RT, @satishacharya:, Reddy, Wedding!, @mail_t...\n",
       "                               ...                        \n",
       "14935    [RT, @saxenavishakha:, Ghost, of, demonetizati...\n",
       "14936    [N, d, modi, fans-d, true, nationalists, of, t...\n",
       "14937    [RT, @bharat_builder:, Lol., Demonetization, h...\n",
       "14938    [RT, @Stupidosaur:, @Vidyut, B, team, of, BJP....\n",
       "14939    [@Vidyut, B, team, of, BJP., CIA, baby., CCTV,...\n",
       "Name: text, Length: 14940, dtype: object"
      ]
     },
     "execution_count": 56,
     "metadata": {},
     "output_type": "execute_result"
    }
   ],
   "source": [
    "# dataset.text.split() # ERROR: 'Series' object has no attribute 'split'\n",
    "dataset.text.str.split()\n"
   ]
  },
  {
   "cell_type": "code",
   "execution_count": 61,
   "metadata": {},
   "outputs": [
    {
     "name": "stdout",
     "output_type": "stream",
     "text": [
      "<class 'pandas.core.series.Series'>\n"
     ]
    }
   ],
   "source": [
    "print(type(dataset.text.str.split()))"
   ]
  },
  {
   "cell_type": "code",
   "execution_count": 65,
   "metadata": {},
   "outputs": [
    {
     "data": {
      "text/plain": [
       "1    [RT, @Hemant_80:, Did, you, vote, on, #Demonet...\n",
       "2    [RT, @roshankar:, Former, FinSec,, RBI, Dy, Go...\n",
       "3    [RT, @ANI_news:, Gurugram, (Haryana):, Post, o...\n",
       "Name: text, dtype: object"
      ]
     },
     "execution_count": 65,
     "metadata": {},
     "output_type": "execute_result"
    }
   ],
   "source": [
    "dataset.text.str.split()[[1,2,3]]"
   ]
  },
  {
   "cell_type": "code",
   "execution_count": 70,
   "metadata": {},
   "outputs": [],
   "source": [
    "word_list=[]\n",
    "for tw_words in dataset.text.str.split():\n",
    "        word_list.extend(tw_words)"
   ]
  },
  {
   "cell_type": "code",
   "execution_count": 76,
   "metadata": {},
   "outputs": [
    {
     "data": {
      "text/plain": [
       "['RT',\n",
       " '@rssurjewala:',\n",
       " 'Critical',\n",
       " 'question:',\n",
       " 'Was',\n",
       " 'PayTM',\n",
       " 'informed',\n",
       " 'about',\n",
       " '#Demonetization',\n",
       " 'edict',\n",
       " 'by',\n",
       " 'PM?',\n",
       " \"It's\",\n",
       " 'clearly',\n",
       " 'fishy',\n",
       " 'and',\n",
       " 'requires',\n",
       " 'full',\n",
       " 'disclosure',\n",
       " '&amp;',\n",
       " 'RT',\n",
       " '@Hemant_80:',\n",
       " 'Did',\n",
       " 'you',\n",
       " 'vote',\n",
       " 'on',\n",
       " '#Demonetization',\n",
       " 'on',\n",
       " 'Modi',\n",
       " 'survey',\n",
       " 'app?',\n",
       " 'RT',\n",
       " '@roshankar:',\n",
       " 'Former',\n",
       " 'FinSec,',\n",
       " 'RBI',\n",
       " 'Dy',\n",
       " 'Governor,',\n",
       " 'CBDT',\n",
       " 'Chair',\n",
       " '+',\n",
       " 'Harvard',\n",
       " 'Professor',\n",
       " 'lambaste',\n",
       " '#Demonetization.',\n",
       " 'If',\n",
       " 'not',\n",
       " 'for',\n",
       " 'Aam',\n",
       " 'Aadmi,',\n",
       " 'listen',\n",
       " 'to',\n",
       " 'th',\n",
       " 'RT',\n",
       " '@ANI_news:',\n",
       " 'Gurugram',\n",
       " '(Haryana):',\n",
       " 'Post',\n",
       " 'office',\n",
       " 'employees',\n",
       " 'provide',\n",
       " 'cash',\n",
       " 'exchange',\n",
       " 'to',\n",
       " 'patients',\n",
       " 'in',\n",
       " 'hospitals',\n",
       " '#demonetization',\n",
       " 'https://t.co/uGMxUP9',\n",
       " 'RT',\n",
       " '@satishacharya:',\n",
       " 'Reddy',\n",
       " 'Wedding!',\n",
       " '@mail_today',\n",
       " 'cartoon',\n",
       " '#demonetization',\n",
       " '#ReddyWedding',\n",
       " 'https://t.co/u7gLNrq31F',\n",
       " '@DerekScissors1:',\n",
       " 'India\\x92s',\n",
       " '#demonetization:',\n",
       " '#Blackmoney',\n",
       " 'a',\n",
       " 'symptom,',\n",
       " 'not',\n",
       " 'the',\n",
       " 'disease',\n",
       " 'https://t.co/HSl6Ihj0Qe',\n",
       " 'via',\n",
       " '@ambazaarmag',\n",
       " 'RT',\n",
       " '@gauravcsawant:',\n",
       " 'Rs',\n",
       " '40',\n",
       " 'lakh',\n",
       " 'looted',\n",
       " 'from',\n",
       " 'a',\n",
       " 'bank',\n",
       " 'in',\n",
       " 'Kishtwar',\n",
       " 'in',\n",
       " 'J&amp;K.',\n",
       " 'Third',\n",
       " 'such',\n",
       " 'incident',\n",
       " 'since',\n",
       " '#demonetization.',\n",
       " \"That's\",\n",
       " 'how',\n",
       " 'terrorists',\n",
       " 'have',\n",
       " 'RT',\n",
       " '@Joydeep_911:',\n",
       " 'Calling',\n",
       " 'all',\n",
       " 'Nationalists',\n",
       " 'to',\n",
       " 'join...',\n",
       " 'Walk',\n",
       " 'for',\n",
       " '#CorruptionFreeIndia',\n",
       " 'and',\n",
       " 'spread',\n",
       " 'the',\n",
       " 'benefits',\n",
       " 'of',\n",
       " '#Demonetization',\n",
       " 'among',\n",
       " 'the',\n",
       " 'mas',\n",
       " 'RT',\n",
       " '@sumitbhati2002:',\n",
       " 'Many',\n",
       " 'opposition',\n",
       " 'leaders',\n",
       " 'are',\n",
       " 'with',\n",
       " '@narendramodi',\n",
       " 'on',\n",
       " 'the',\n",
       " '#Demonetization',\n",
       " 'And',\n",
       " 'respect',\n",
       " 'their',\n",
       " 'decision,but',\n",
       " 'support',\n",
       " 'oppositio',\n",
       " 'National',\n",
       " 'reform',\n",
       " 'now',\n",
       " 'destroyed',\n",
       " 'even',\n",
       " 'the',\n",
       " 'essence',\n",
       " 'of',\n",
       " 'sagan.',\n",
       " 'Such',\n",
       " 'instances',\n",
       " 'urge',\n",
       " 'giving',\n",
       " '#demonetization',\n",
       " 'a',\n",
       " 'second',\n",
       " 'though',\n",
       " 'https://t.co/eyySIREiUq',\n",
       " 'Many',\n",
       " 'opposition',\n",
       " 'leaders',\n",
       " 'are',\n",
       " 'with',\n",
       " '@narendramodi',\n",
       " 'on',\n",
       " 'the',\n",
       " '#Demonetization',\n",
       " 'And',\n",
       " 'respect',\n",
       " 'their',\n",
       " 'decision,but',\n",
       " 'support',\n",
       " 'opposition',\n",
       " 'just',\n",
       " \"b'coz\",\n",
       " 'of',\n",
       " 'party',\n",
       " 'RT',\n",
       " '@Joydas:',\n",
       " 'Question',\n",
       " 'in',\n",
       " 'Narendra',\n",
       " 'Modi',\n",
       " 'App',\n",
       " 'where',\n",
       " 'PM',\n",
       " 'is',\n",
       " 'taking',\n",
       " 'feedback',\n",
       " 'if',\n",
       " 'people',\n",
       " 'support',\n",
       " 'his',\n",
       " '#DeMonetization',\n",
       " 'strategy',\n",
       " 'https://t.co/pYgK8Rmg7r',\n",
       " '@Jaggesh2',\n",
       " 'Bharat',\n",
       " 'band',\n",
       " 'on',\n",
       " '28??<ed><U+00A0><U+00BD><ed><U+00B8><U+0082>Those',\n",
       " 'who',\n",
       " 'are',\n",
       " 'protesting',\n",
       " '#demonetization',\n",
       " 'are',\n",
       " 'all',\n",
       " 'different',\n",
       " 'party',\n",
       " 'leaders.',\n",
       " 'RT',\n",
       " '@Atheist_Krishna:',\n",
       " 'The',\n",
       " 'effect',\n",
       " 'of',\n",
       " '#Demonetization',\n",
       " '!!',\n",
       " '.',\n",
       " 'https://t.co/A8of7zh2f5',\n",
       " 'RT',\n",
       " '@sona2905:',\n",
       " 'When',\n",
       " 'I',\n",
       " 'explained',\n",
       " '#Demonetization',\n",
       " 'to',\n",
       " 'myself',\n",
       " 'and',\n",
       " 'tried',\n",
       " 'to',\n",
       " 'put',\n",
       " 'it',\n",
       " 'down',\n",
       " 'in',\n",
       " 'my',\n",
       " 'words',\n",
       " 'which',\n",
       " 'are',\n",
       " 'not',\n",
       " 'laced',\n",
       " 'with',\n",
       " 'any',\n",
       " 'heavy',\n",
       " 'technical',\n",
       " 'RT',\n",
       " '@Dipankar_cpiml:',\n",
       " 'The',\n",
       " 'Modi',\n",
       " 'app',\n",
       " 'on',\n",
       " '#DeMonetization',\n",
       " 'proves',\n",
       " 'once',\n",
       " 'again',\n",
       " 'that',\n",
       " 'the',\n",
       " 'govt',\n",
       " 'is',\n",
       " 'totally',\n",
       " 'indifferent',\n",
       " 'to',\n",
       " 'the',\n",
       " 'mounting',\n",
       " 'misery',\n",
       " 'and',\n",
       " 'hards',\n",
       " 'RT',\n",
       " '@roshankar:',\n",
       " 'Former',\n",
       " 'FinSec,',\n",
       " 'RBI',\n",
       " 'Dy',\n",
       " 'Governor,',\n",
       " 'CBDT',\n",
       " 'Chair',\n",
       " '+',\n",
       " 'Harvard',\n",
       " 'Professor',\n",
       " 'lambaste',\n",
       " '#Demonetization.',\n",
       " 'If',\n",
       " 'not',\n",
       " 'for',\n",
       " 'Aam',\n",
       " 'Aadmi,',\n",
       " 'listen',\n",
       " 'to',\n",
       " 'th',\n",
       " 'RT',\n",
       " '@Atheist_Krishna:',\n",
       " 'BEFORE',\n",
       " 'and',\n",
       " 'AFTER',\n",
       " 'Gandhi',\n",
       " 'ji',\n",
       " 'heard',\n",
       " 'they',\n",
       " 'are',\n",
       " 'standing',\n",
       " 'there',\n",
       " 'against',\n",
       " '#Demonetization',\n",
       " '.',\n",
       " 'https://t.co/9NheK63TPg',\n",
       " 'RT',\n",
       " '@pGurus1:',\n",
       " '#Demonetization',\n",
       " 'The',\n",
       " 'co-operative',\n",
       " 'banking',\n",
       " 'sector',\n",
       " 'in',\n",
       " 'Kerala',\n",
       " 'is',\n",
       " 'as',\n",
       " 'good',\n",
       " 'as',\n",
       " 'a',\n",
       " 'tax',\n",
       " 'haven.',\n",
       " 'Is',\n",
       " 'Kerala',\n",
       " 'a',\n",
       " 'Black',\n",
       " 'Money',\n",
       " 'HQ?',\n",
       " 'https://t.co/',\n",
       " 'RT',\n",
       " '@roshankar:',\n",
       " 'Former',\n",
       " 'FinSec,',\n",
       " 'RBI',\n",
       " 'Dy',\n",
       " 'Governor,',\n",
       " 'CBDT',\n",
       " 'Chair',\n",
       " '+',\n",
       " 'Harvard',\n",
       " 'Professor',\n",
       " 'lambaste',\n",
       " '#Demonetization.',\n",
       " 'If',\n",
       " 'not',\n",
       " 'for',\n",
       " 'Aam',\n",
       " 'Aadmi,',\n",
       " 'listen',\n",
       " 'to',\n",
       " 'th',\n",
       " 'RT',\n",
       " '@Hemant_80:',\n",
       " 'Did',\n",
       " 'you',\n",
       " 'vote',\n",
       " 'on',\n",
       " '#Demonetization',\n",
       " 'on',\n",
       " 'Modi',\n",
       " 'survey',\n",
       " 'app?',\n",
       " 'RT',\n",
       " '@roshankar:',\n",
       " 'Former',\n",
       " 'FinSec,',\n",
       " 'RBI',\n",
       " 'Dy',\n",
       " 'Governor,',\n",
       " 'CBDT',\n",
       " 'Chair',\n",
       " '+',\n",
       " 'Harvard',\n",
       " 'Professor',\n",
       " 'lambaste',\n",
       " '#Demonetization.',\n",
       " 'If',\n",
       " 'not',\n",
       " 'for',\n",
       " 'Aam',\n",
       " 'Aadmi,',\n",
       " 'listen',\n",
       " 'to',\n",
       " 'th',\n",
       " 'RT',\n",
       " '@Atheist_Krishna:',\n",
       " 'BEFORE',\n",
       " 'and',\n",
       " 'AFTER',\n",
       " 'Gandhi',\n",
       " 'ji',\n",
       " 'heard',\n",
       " 'they',\n",
       " 'are',\n",
       " 'standing',\n",
       " 'there',\n",
       " 'against',\n",
       " '#Demonetization',\n",
       " '.',\n",
       " 'https://t.co/9NheK63TPg',\n",
       " 'RT',\n",
       " '@MahikaInfra:',\n",
       " '@narendramodi',\n",
       " '@Swamy39',\n",
       " 'The',\n",
       " 'success',\n",
       " 'of',\n",
       " '#Demonetization',\n",
       " 'will',\n",
       " 'depend',\n",
       " 'on',\n",
       " 'how',\n",
       " 'swiftly',\n",
       " 'govt',\n",
       " 'replenish',\n",
       " 'the',\n",
       " 'currency',\n",
       " 'Pls',\n",
       " 'avoid',\n",
       " 'Ba',\n",
       " 'RT',\n",
       " '@Hemant_80:',\n",
       " 'Did',\n",
       " 'you',\n",
       " 'vote',\n",
       " 'on',\n",
       " '#Demonetization',\n",
       " 'on',\n",
       " 'Modi',\n",
       " 'survey',\n",
       " 'app?',\n",
       " 'RT',\n",
       " '@roshankar:',\n",
       " 'Former',\n",
       " 'FinSec,',\n",
       " 'RBI',\n",
       " 'Dy',\n",
       " 'Governor,',\n",
       " 'CBDT',\n",
       " 'Chair',\n",
       " '+',\n",
       " 'Harvard',\n",
       " 'Professor',\n",
       " 'lambaste',\n",
       " '#Demonetization.',\n",
       " 'If',\n",
       " 'not',\n",
       " 'for',\n",
       " 'Aam',\n",
       " 'Aadmi,',\n",
       " 'listen',\n",
       " 'to',\n",
       " 'th',\n",
       " 'RT',\n",
       " '@kapil_kausik:',\n",
       " '#Doltiwal',\n",
       " 'I',\n",
       " 'mean',\n",
       " '#JaiChandKejriwal',\n",
       " 'is',\n",
       " '\"hurt\"',\n",
       " 'by',\n",
       " '#Demonetization',\n",
       " 'as',\n",
       " 'the',\n",
       " 'same',\n",
       " 'has',\n",
       " 'rendered',\n",
       " 'USELESS',\n",
       " '<ed><U+00A0><U+00BD><ed><U+00B1><U+0089>',\n",
       " '\"acquired',\n",
       " 'funds\"',\n",
       " 'No',\n",
       " 'wo',\n",
       " 'RT',\n",
       " '@roshankar:',\n",
       " 'Former',\n",
       " 'FinSec,',\n",
       " 'RBI',\n",
       " 'Dy',\n",
       " 'Governor,',\n",
       " 'CBDT',\n",
       " 'Chair',\n",
       " '+',\n",
       " 'Harvard',\n",
       " 'Professor',\n",
       " 'lambaste',\n",
       " '#Demonetization.',\n",
       " 'If',\n",
       " 'not',\n",
       " 'for',\n",
       " 'Aam',\n",
       " 'Aadmi,',\n",
       " 'listen',\n",
       " 'to',\n",
       " 'th',\n",
       " 'RT',\n",
       " '@kapil_kausik:',\n",
       " '#Doltiwal',\n",
       " 'I',\n",
       " 'mean',\n",
       " '#JaiChandKejriwal',\n",
       " 'is',\n",
       " '\"hurt\"',\n",
       " 'by',\n",
       " '#Demonetization',\n",
       " 'as',\n",
       " 'the',\n",
       " 'same',\n",
       " 'has',\n",
       " 'rendered',\n",
       " 'USELESS',\n",
       " '<ed><U+00A0><U+00BD><ed><U+00B1><U+0089>',\n",
       " '\"acquired',\n",
       " 'funds\"',\n",
       " 'No',\n",
       " 'wo',\n",
       " 'RT',\n",
       " '@AAPVind:',\n",
       " '#Demonetization',\n",
       " 'Is',\n",
       " 'Disaster!',\n",
       " '@naam_pk',\n",
       " 'RT',\n",
       " '@Hemant_80:',\n",
       " 'Did',\n",
       " 'you',\n",
       " 'vote',\n",
       " 'on',\n",
       " '#Demonetization',\n",
       " 'on',\n",
       " 'Modi',\n",
       " 'survey',\n",
       " 'app?',\n",
       " 'RT',\n",
       " '@Gadgets360:',\n",
       " 'After',\n",
       " 'the',\n",
       " '#demonetization,',\n",
       " 'searches',\n",
       " 'about',\n",
       " \"#NarendraModi's\",\n",
       " 'app',\n",
       " 'are',\n",
       " 'trending',\n",
       " 'on',\n",
       " 'app',\n",
       " 'stores',\n",
       " 'https://t.co/ZetKRqqClX',\n",
       " 'RT',\n",
       " '@_avenu:',\n",
       " 'Teacher:',\n",
       " 'is',\n",
       " 'there',\n",
       " 'anybody',\n",
       " 'who',\n",
       " 'is',\n",
       " 'absent',\n",
       " 'today?',\n",
       " '(No',\n",
       " 'response',\n",
       " ')',\n",
       " 'Teacher',\n",
       " 'says',\n",
       " '100%',\n",
       " 'attendance',\n",
       " '#Demonetization',\n",
       " '#App',\n",
       " '#survey',\n",
       " '@DonMu',\n",
       " 'RT',\n",
       " '@DrGPradhan:',\n",
       " '8',\n",
       " 'This',\n",
       " 'tweet',\n",
       " 'of',\n",
       " '@minimathur',\n",
       " 'BIBI',\n",
       " 'explains',\n",
       " 'why',\n",
       " 'she',\n",
       " 'is',\n",
       " 'having',\n",
       " 'a',\n",
       " 'prob',\n",
       " 'with',\n",
       " '#demonetization',\n",
       " '..In',\n",
       " 'first',\n",
       " 'part',\n",
       " 'she',\n",
       " 'says',\n",
       " 'she',\n",
       " \"can't\",\n",
       " 'RT',\n",
       " '@mayankjain100:',\n",
       " '#demonetization',\n",
       " 'is',\n",
       " 'Communal',\n",
       " 'and',\n",
       " 'Black',\n",
       " 'Money',\n",
       " 'is',\n",
       " 'Secular...',\n",
       " 'LOL.',\n",
       " '#Demonetization',\n",
       " 'Effect.',\n",
       " 'https://t.co/aA5lfy9ALG',\n",
       " 'RT',\n",
       " '@kapil_kausik:',\n",
       " '#Doltiwal',\n",
       " 'I',\n",
       " 'mean',\n",
       " '#JaiChandKejriwal',\n",
       " 'is',\n",
       " '\"hurt\"',\n",
       " 'by',\n",
       " '#Demonetization',\n",
       " 'as',\n",
       " 'the',\n",
       " 'same',\n",
       " 'has',\n",
       " 'rendered',\n",
       " 'USELESS',\n",
       " '<ed><U+00A0><U+00BD><ed><U+00B1><U+0089>',\n",
       " '\"acquired',\n",
       " 'funds\"',\n",
       " 'No',\n",
       " 'wo',\n",
       " 'RT',\n",
       " 'roshankar:',\n",
       " \"Harvard's\",\n",
       " 'Larry',\n",
       " 'Summers',\n",
       " 'calls',\n",
       " '#Demonetization',\n",
       " 'as',\n",
       " 'poor',\n",
       " 'policy',\n",
       " 'with',\n",
       " 'disproportionate',\n",
       " 'negative',\n",
       " 'impact',\n",
       " 'o',\n",
       " 'https://t.co/TPYJgXFBY8',\n",
       " 'RT',\n",
       " '@Atheist_Krishna:',\n",
       " 'BEFORE',\n",
       " 'and',\n",
       " 'AFTER',\n",
       " 'Gandhi',\n",
       " 'ji',\n",
       " 'heard',\n",
       " 'they',\n",
       " 'are',\n",
       " 'standing',\n",
       " 'there',\n",
       " 'against',\n",
       " '#Demonetization',\n",
       " '.',\n",
       " 'https://t.co/9NheK63TPg',\n",
       " '@arunjaitley',\n",
       " '@narendramodi',\n",
       " 'Lrnd',\n",
       " 'frm',\n",
       " 'a',\n",
       " 'frnd-Banks',\n",
       " 'r',\n",
       " 'asking',\n",
       " 'employees',\n",
       " 'to',\n",
       " 'comeback',\n",
       " '2sales',\n",
       " '&amp;',\n",
       " 'BAU',\n",
       " 'Operations',\n",
       " '#Demonetization',\n",
       " 'RT',\n",
       " '@kanimozhi:',\n",
       " 'Ts',\n",
       " 'is',\n",
       " 'exactly',\n",
       " 'what',\n",
       " 'Pappu',\n",
       " '&amp;',\n",
       " 'opposition',\n",
       " 'has',\n",
       " 'done',\n",
       " 'to',\n",
       " 'themselves',\n",
       " 'by',\n",
       " 'opposing',\n",
       " '#Demonetization',\n",
       " 'Now',\n",
       " 'none',\n",
       " 'can',\n",
       " 'stop',\n",
       " 'Modi',\n",
       " 'bandwagon',\n",
       " 'ti',\n",
       " 'RT',\n",
       " '@roshankar:',\n",
       " \"Harvard's\",\n",
       " 'Larry',\n",
       " 'Summers',\n",
       " 'calls',\n",
       " '#Demonetization',\n",
       " 'as',\n",
       " 'poor',\n",
       " 'policy',\n",
       " 'with',\n",
       " 'disproportionate',\n",
       " 'negative',\n",
       " 'impact',\n",
       " 'on',\n",
       " 'poor/trade.',\n",
       " 'https://t',\n",
       " 'RT',\n",
       " '@DrGPradhan:',\n",
       " '8',\n",
       " 'This',\n",
       " 'tweet',\n",
       " 'of',\n",
       " '@minimathur',\n",
       " 'BIBI',\n",
       " 'explains',\n",
       " 'why',\n",
       " 'she',\n",
       " 'is',\n",
       " 'having',\n",
       " 'a',\n",
       " 'prob',\n",
       " 'with',\n",
       " '#demonetization',\n",
       " '..In',\n",
       " 'first',\n",
       " 'part',\n",
       " 'she',\n",
       " 'says',\n",
       " 'she',\n",
       " \"can't\",\n",
       " '@dineshgrao',\n",
       " 'you',\n",
       " 'have',\n",
       " '12.5',\n",
       " 'k',\n",
       " 'followers',\n",
       " 'yet',\n",
       " 'you',\n",
       " 'are',\n",
       " 'not',\n",
       " 'getting',\n",
       " 'enough',\n",
       " 'likes',\n",
       " 'for',\n",
       " 'your',\n",
       " 'tweets',\n",
       " 'against',\n",
       " '#demonetization.',\n",
       " 'You',\n",
       " 'need',\n",
       " 'to',\n",
       " 'introspect.',\n",
       " '#DeMonetization',\n",
       " 'Effect',\n",
       " ':',\n",
       " 'Visa,',\n",
       " 'Master',\n",
       " 'Card,',\n",
       " 'Amex',\n",
       " 'all',\n",
       " 'Accepted',\n",
       " ':)',\n",
       " 'https://t.co/ozDwcPKjaI',\n",
       " 'RT',\n",
       " '@DrGPradhan:',\n",
       " '8',\n",
       " 'This',\n",
       " 'tweet',\n",
       " 'of',\n",
       " '@minimathur',\n",
       " 'BIBI',\n",
       " 'explains',\n",
       " 'why',\n",
       " 'she',\n",
       " 'is',\n",
       " 'having',\n",
       " 'a',\n",
       " 'prob',\n",
       " 'with',\n",
       " '#demonetization',\n",
       " '..In',\n",
       " 'first',\n",
       " 'part',\n",
       " 'she',\n",
       " 'says',\n",
       " 'she',\n",
       " \"can't\",\n",
       " 'RT',\n",
       " '@harshkkapoor:',\n",
       " '#DeMonetization',\n",
       " 'survey',\n",
       " 'results',\n",
       " 'after',\n",
       " '24',\n",
       " 'hours',\n",
       " '5Lacs',\n",
       " 'opinions',\n",
       " 'Amazing',\n",
       " 'response&amp;',\n",
       " 'Commitment',\n",
       " 'in',\n",
       " 'fight',\n",
       " 'against',\n",
       " 'Blackmoney',\n",
       " '@na',\n",
       " 'RT',\n",
       " '@roshankar:',\n",
       " 'Former',\n",
       " 'FinSec,',\n",
       " 'RBI',\n",
       " 'Dy',\n",
       " 'Governor,',\n",
       " 'CBDT',\n",
       " 'Chair',\n",
       " '+',\n",
       " 'Harvard',\n",
       " 'Professor',\n",
       " 'lambaste',\n",
       " '#Demonetization.',\n",
       " 'If',\n",
       " 'not',\n",
       " 'for',\n",
       " 'Aam',\n",
       " 'Aadmi,',\n",
       " 'listen',\n",
       " 'to',\n",
       " 'th',\n",
       " 'RT',\n",
       " '@rohanmlw:',\n",
       " '#demonetization',\n",
       " 'eye',\n",
       " 'opener',\n",
       " 'video',\n",
       " 'bt',\n",
       " 'i',\n",
       " 'doubt',\n",
       " 'as',\n",
       " 'few',\n",
       " 'jurnos',\n",
       " \"don't\",\n",
       " 'want2',\n",
       " 'hear',\n",
       " '+ve',\n",
       " 'of',\n",
       " '@narendramodi',\n",
       " '@sardesairajdeep',\n",
       " '@ravishndtv',\n",
       " 'RT',\n",
       " '@Punitspeaks:',\n",
       " 'Survey',\n",
       " 'result',\n",
       " 'so',\n",
       " 'far',\n",
       " 'by',\n",
       " '@PMOIndia',\n",
       " 'on',\n",
       " '#Demonetization.',\n",
       " '5',\n",
       " 'lakh',\n",
       " 'response',\n",
       " 'in',\n",
       " '24',\n",
       " 'hrs.',\n",
       " '90%',\n",
       " 'supports',\n",
       " 'note',\n",
       " 'ban.',\n",
       " '#MeraDeshBadalRaha',\n",
       " 'RT',\n",
       " '@nmleo1:',\n",
       " 'Is',\n",
       " '#ModiSarkar',\n",
       " \"'s\",\n",
       " '#achedin',\n",
       " 'campaign',\n",
       " 'on',\n",
       " '#demonetization',\n",
       " 'a',\n",
       " '#goebbelsian',\n",
       " '#masterstroke',\n",
       " 'that',\n",
       " 'turns',\n",
       " 'blind',\n",
       " 'eye',\n",
       " 'to',\n",
       " '#GroundZero',\n",
       " 'shocks?',\n",
       " 'RT',\n",
       " '@Punitspeaks:',\n",
       " 'Survey',\n",
       " 'result',\n",
       " 'so',\n",
       " 'far',\n",
       " 'by',\n",
       " '@PMOIndia',\n",
       " 'on',\n",
       " '#Demonetization.',\n",
       " '5',\n",
       " 'lakh',\n",
       " 'response',\n",
       " 'in',\n",
       " '24',\n",
       " 'hrs.',\n",
       " '90%',\n",
       " 'supports',\n",
       " 'note',\n",
       " 'ban.',\n",
       " '#MeraDeshBadalRaha',\n",
       " 'RT',\n",
       " '@DrGPradhan:',\n",
       " '8',\n",
       " 'This',\n",
       " 'tweet',\n",
       " 'of',\n",
       " '@minimathur',\n",
       " 'BIBI',\n",
       " 'explains',\n",
       " 'why',\n",
       " 'she',\n",
       " 'is',\n",
       " 'having',\n",
       " 'a',\n",
       " 'prob',\n",
       " 'with',\n",
       " '#demonetization',\n",
       " '..In',\n",
       " 'first',\n",
       " 'part',\n",
       " 'she',\n",
       " 'says',\n",
       " 'she',\n",
       " \"can't\",\n",
       " '#demonetization',\n",
       " 'is',\n",
       " 'Communal',\n",
       " 'and',\n",
       " 'Black',\n",
       " 'Money',\n",
       " 'is',\n",
       " 'Secular...',\n",
       " 'RT',\n",
       " '@kapil_kausik:',\n",
       " '#Doltiwal',\n",
       " 'I',\n",
       " 'mean',\n",
       " '#JaiChandKejriwal',\n",
       " 'is',\n",
       " '\"hurt\"',\n",
       " 'by',\n",
       " '#Demonetization',\n",
       " 'as',\n",
       " 'the',\n",
       " 'same',\n",
       " 'has',\n",
       " 'rendered',\n",
       " 'USELESS',\n",
       " '<ed><U+00A0><U+00BD><ed><U+00B1><U+0089>',\n",
       " '\"acquired',\n",
       " 'funds\"',\n",
       " 'No',\n",
       " 'wo',\n",
       " 'RT',\n",
       " '@nmleo1:',\n",
       " '@MinhazMerchant',\n",
       " '#demonetization',\n",
       " 'hardly',\n",
       " 'affects',\n",
       " 'tax',\n",
       " 'dodgers',\n",
       " '&amp;',\n",
       " '#NETAS',\n",
       " 'who',\n",
       " 'excel',\n",
       " 'in',\n",
       " '#CashlessCorruption',\n",
       " '&amp;',\n",
       " 'have',\n",
       " 'multiplied',\n",
       " 'bad',\n",
       " 'weal',\n",
       " 'RT',\n",
       " '@Atheist_Krishna:',\n",
       " 'BEFORE',\n",
       " ...]"
      ]
     },
     "execution_count": 76,
     "metadata": {},
     "output_type": "execute_result"
    }
   ],
   "source": [
    "word_list"
   ]
  },
  {
   "cell_type": "code",
   "execution_count": 82,
   "metadata": {},
   "outputs": [
    {
     "name": "stdout",
     "output_type": "stream",
     "text": [
      "[]\n",
      "[1, 2]\n",
      "[1, 2]\n",
      "[1, 2, 3]\n",
      "[1, 2, 3]\n",
      "[1, 2, 3, 4, 5]\n"
     ]
    }
   ],
   "source": [
    "list1=[]\n",
    "for i in pd.Series([[1,2],[3],[4,5]]): #this series is of the form of the result of dataset.text.str.split()\n",
    "                    print(list1)       \n",
    "                    list1.extend(i)\n",
    "                    print(list1)"
   ]
  },
  {
   "cell_type": "markdown",
   "metadata": {},
   "source": [
    "# 3. EDA using Word Clouds"
   ]
  },
  {
   "cell_type": "markdown",
   "metadata": {},
   "source": [
    "Now that you have succesfully created a frequency table, you can use that to create multiple visualizations in the form of word clouds. Sometimes, the quickest way to understand the context of the text data is using a word cloud of top 100-200 words. Let's see how to create that in Python.\n",
    "\n",
    "Note:- You'll use the WordCloud library of Python. You can install it by -\n",
    "\n",
    "pip install wordcloud\n"
   ]
  },
  {
   "cell_type": "code",
   "execution_count": 103,
   "metadata": {},
   "outputs": [
    {
     "name": "stdout",
     "output_type": "stream",
     "text": [
      "RT               11053\n",
      "to                7650\n",
      "is                5152\n",
      "in                4491\n",
      "the               4331\n",
      "                 ...  \n",
      "@UNinBrussels        1\n",
      "#politicians         1\n",
      "accompanied          1\n",
      "Sector,              1\n",
      "did.                 1\n",
      "Length: 19601, dtype: int64\n"
     ]
    },
    {
     "data": {
      "image/png": "[encoded data removed]",
      "text/plain": [
       "<Figure size 864x576 with 1 Axes>"
      ]
     },
     "metadata": {
      "needs_background": "light"
     },
     "output_type": "display_data"
    }
   ],
   "source": [
    "# import libraries\n",
    "import matplotlib.pyplot as plt\n",
    "from wordcloud import WordCloud\n",
    "\n",
    "# Generate word frequencies\n",
    "word_freq = gen_freq(dataset.text.str) # direct function, instead of creating one ourselves\n",
    "print(word_freq)\n",
    "\n",
    "# Generate word cloud\n",
    "wc=WordCloud(width=400,height=330,max_words=100,background_color='white').generate_from_frequencies(word_freq)\n",
    "wc\n",
    "\n",
    "plt.figure(figsize=(12,8))\n",
    "plt.imshow(wc, interpolation='bilinear')\n",
    "plt.axis('off')\n",
    "plt.show()"
   ]
  },
  {
   "cell_type": "markdown",
   "metadata": {},
   "source": [
    "# Few things to Note:-\n",
    "\n",
    "* There is noise in the form of \"RT\" and \"&amp\" which can be removed from the word frequency.<br>\n",
    "* Stop words like \"the\", \"in\", \"to\", \"of\" etc. are obviously ranking among the top frequency words but these are just   constructs of the English language and are not specific to the people's tweets.\n",
    "* Words like \"demonetization\" have occured multiple times. The reason for this is that the current text is not Normalized so words like \"demonetization\", \"Demonetization\" etc. are all considered as different words.\n",
    "\n",
    "\n",
    "* The above are some of the problems that we need to address in order to make better visualization. Let's solve some of the problems!"
   ]
  },
  {
   "cell_type": "markdown",
   "metadata": {},
   "source": [
    "# Text Cleaning"
   ]
  },
  {
   "cell_type": "markdown",
   "metadata": {},
   "source": [
    "Let's use Regex to do text cleaning"
   ]
  },
  {
   "cell_type": "code",
   "execution_count": 111,
   "metadata": {},
   "outputs": [],
   "source": [
    "import re\n",
    "\n",
    "def clean_text(text):\n",
    "    # Remove RT\n",
    "    text=re.sub(r'RT','',text)\n",
    "    \n",
    "    #Fix &\n",
    "    text = re.sub(r'&amp;', '&', text)\n",
    "    \n",
    "    #Remove punctuations\n",
    "    text=re.sub(r'[?!.;:,#@-]','',text)\n",
    "                \n",
    "    #Convert to lowercase to maintain consistency\n",
    "    text=text.lower()\n",
    "    return text"
   ]
  },
  {
   "cell_type": "markdown",
   "metadata": {},
   "source": [
    "The above will solve problems related to RT, &amp and also the problem of counting same word twice due to case difference. Yet we can do better, let's remove the common stop words."
   ]
  },
  {
   "cell_type": "markdown",
   "metadata": {},
   "source": [
    "# Stop words Removal"
   ]
  },
  {
   "cell_type": "markdown",
   "metadata": {},
   "source": [
    "WordCloud provides its own stopwords list. You can have a look at it by-"
   ]
  },
  {
   "cell_type": "code",
   "execution_count": 108,
   "metadata": {},
   "outputs": [
    {
     "name": "stdout",
     "output_type": "stream",
     "text": [
      "{\"they've\", 'down', 'me', 'about', 'on', 'ourselves', \"where's\", 'itself', \"wasn't\", 'themselves', 'ever', 'under', \"don't\", \"we've\", 'out', 'their', 'was', 'are', 'than', \"couldn't\", 'k', 'www', 'can', 'for', \"i'm\", 'by', 'those', 'above', 'into', 'over', 'has', 'her', \"isn't\", 'there', 'cannot', 'further', 'at', 'have', 'some', \"let's\", 'between', 'yours', \"it's\", 'having', 'i', 'in', \"he'll\", \"there's\", 'r', \"she's\", 'who', 'then', 'again', 'why', 'with', 'the', 'if', 'after', \"doesn't\", \"he's\", 'does', 'yourself', \"shan't\", 'so', \"we'd\", 'am', 'below', 'before', 'no', \"mustn't\", 'this', 'also', 'off', 'ought', 'through', 'whom', 'myself', 'we', 'from', 'ours', 'you', \"that's\", 'hence', 'to', 'how', \"what's\", \"why's\", 'he', \"weren't\", \"you'll\", 'however', 'during', \"i'd\", 'of', 'its', 'a', 'any', \"they'll\", \"you'd\", 'your', 'his', 'else', 'get', 'up', 'doing', \"she'd\", \"they're\", 'himself', \"hasn't\", 'had', 'own', 'would', 'against', 'our', 'and', 'while', 'very', 'until', 'such', 'an', 'or', \"he'd\", 'it', 'when', 'yourselves', 'because', \"you've\", \"we'll\", 'few', \"hadn't\", 'same', 'my', \"aren't\", 'other', 'not', 'as', 'shall', 'therefore', 'them', 'were', 'once', 'most', 'each', \"didn't\", 'com', 'been', 'herself', 'that', 'she', 'what', \"i've\", \"can't\", 'which', 'both', 'hers', \"when's\", 'being', \"here's\", 'did', 'since', 'should', 'otherwise', 'all', \"how's\", 'nor', \"they'd\", \"we're\", \"who's\", 'him', 'could', \"won't\", 'is', 'http', 'these', \"you're\", 'they', 'where', \"wouldn't\", 'here', 'more', 'be', 'just', 'but', 'do', \"i'll\", 'theirs', \"shouldn't\", \"haven't\", 'like', \"she'll\", 'too', 'only'}\n"
     ]
    }
   ],
   "source": [
    "#Import list of stopwards\n",
    "from wordcloud import STOPWORDS\n",
    "print(STOPWORDS)"
   ]
  },
  {
   "cell_type": "markdown",
   "metadata": {},
   "source": [
    "Now that you know what all has to be changed to improve our word cloud, let's make some wordclouds. We'll call the previous functions of clean_text() and gen_freq() to perform cleaning and frequency computation operation respectively and drop the words present in STOPWORDS from the word_freq dictionary."
   ]
  },
  {
   "cell_type": "code",
   "execution_count": 122,
   "metadata": {},
   "outputs": [
    {
     "data": {
      "image/png": "[encoded data removed]",
      "text/plain": [
       "<Figure size 864x1008 with 1 Axes>"
      ]
     },
     "metadata": {
      "needs_background": "light"
     },
     "output_type": "display_data"
    }
   ],
   "source": [
    "# clean_text(dataset.text) # error : clean_text() expected string or bytes-like object\n",
    "text=dataset.text.apply(lambda x: clean_text(x)) # returns series object\n",
    "word_freq=gen_freq(text.str)*100 \n",
    "word_freq = word_freq.drop(labels=STOPWORDS, errors='ignore') # index lebels of the series to delete stop words\n",
    "\n",
    "# generate word cloud\n",
    "wc=WordCloud(width=450, height=330, max_words=200, background_color='white').generate_from_frequencies(word_freq)\n",
    "\n",
    "plt.figure(figsize=(12, 14))\n",
    "plt.imshow(wc, interpolation='bilinear')\n",
    "plt.axis('off')\n",
    "plt.show()"
   ]
  },
  {
   "cell_type": "markdown",
   "metadata": {},
   "source": [
    "* Now that you have succesfully created a wordcloud, you can get some insight into the areas of interest of the general twitter users:\n",
    "\n",
    "** It is evident that people are talking about govt. policies like demonetization, J&K.<br>\n",
    "** There are some personalitites that are mentioned numerous times like evanspiegel, PM Narendra Modi, Dr Kumar Vishwas etc.<br>\n",
    "** There are also talks about oscars, youtube and terrorists<br>\n",
    "** There are many sub-topics that revolve around demonetization like atms, bank, cash, paytm etc. Which tells that many people are concerned about it."
   ]
  },
  {
   "cell_type": "markdown",
   "metadata": {},
   "source": [
    "# 4. Why to Preprocess text data?"
   ]
  },
  {
   "cell_type": "markdown",
   "metadata": {},
   "source": [
    "As you may have already seen that without performing preprocessing operations like cleaning, removing stopwords and changing case in the dataset the representation always comes out wrong. In this case, it was that the wordcloud was full of noise but in other cases it might be your Machine Learning model that is going to suffer.\n",
    "\n",
    "Also something to note is even now some words are misreperesented for example: \"modi, narendra\" and narendramodi all refer to the same person. This can eaisly be solved by Normalizing our text which is a technique that you'll learn in future models."
   ]
  },
  {
   "cell_type": "markdown",
   "metadata": {},
   "source": [
    "# 5.Challenge"
   ]
  },
  {
   "cell_type": "markdown",
   "metadata": {},
   "source": [
    "As you would have noticed, even the current word cloud has some form of noise especially from strange symbols like <U...>. "
   ]
  },
  {
   "cell_type": "markdown",
   "metadata": {},
   "source": [
    "# Parts of Speech Tagging and Grammer Parsing\n"
   ]
  },
  {
   "cell_type": "markdown",
   "metadata": {},
   "source": [
    "* Defines the syntactic context and role of words in the sentence\n",
    "* POS: nouns, verb, adjective, adverb\n",
    "* adjective, adverb(Modifiers, quantifiers, intensifiers)\n",
    "* In any sentence every word will be associated with POS tag\n",
    "** ex: 'David has purchased new laptop from Apple store'<br>\n",
    "   * Dvaid : NNP(Proper Noun)<br>\n",
    "   * has: VBZ(verb)<br>\n",
    "   * purchased: VBN(verb)<br>\n",
    "   * a: DT()<br>\n",
    "   * new: JJ(adjective)<br>\n",
    "   * laptop: NN(noun)<br>\n",
    "   * from : IN()<br>\n",
    "   * Apple: NNP(Proper Noun) <br>\n",
    "   * store: NN(noun)<br>\n",
    "* POS tag is defined by the relation of the word with its adjacent words\n",
    "* ML models or rule based models are applied to get POS of a word \n",
    "* Most commonly used POS tag notations are provided by Penn treebank corpus(48 notationa) "
   ]
  },
  {
   "cell_type": "markdown",
   "metadata": {},
   "source": [
    "# Uses"
   ]
  },
  {
   "cell_type": "markdown",
   "metadata": {},
   "source": [
    "* Text cleaning\n",
    "* Feature Engineering tasks\n",
    "* Word sense disambiguation "
   ]
  },
  {
   "cell_type": "markdown",
   "metadata": {},
   "source": [
    "word-sense disambiguation is an open problem concerned with identifying which sense of a word is used in a sentence"
   ]
  },
  {
   "cell_type": "code",
   "execution_count": 125,
   "metadata": {},
   "outputs": [],
   "source": [
    "# Ex\n",
    "sentence1= 'Please book a ticket to NY' # book in this context is VERB\n",
    "sentecne2: 'I like to read a book on NY'# book in this context is NOUN"
   ]
  },
  {
   "cell_type": "markdown",
   "metadata": {},
   "source": [
    "# Constituency Grammer"
   ]
  },
  {
   "cell_type": "markdown",
   "metadata": {},
   "source": [
    "* Constituents: words/phrases/group of words\n",
    "* CG organizes any sentence into constituents using their properties\n",
    "* Properties are generally driven by POS tags/Noun Phrases/Verb Phrases\n",
    "* Any sentence can be organized into \n",
    "\n",
    "** [subject][context][object] <br>\n",
    "** [subject] The cats/ The Dogs/ They <br>\n",
    "** [contect] are running/ are barking/ are eating <br>\n",
    "** [object]  in the park/ happily/ since the moring <br>\n",
    "\n",
    "* Another view\n",
    "** The dogs are barking in the park --- [DTNN][JJVB][PRP DT NN]"
   ]
  },
  {
   "cell_type": "markdown",
   "metadata": {},
   "source": [
    "# Dependency Grammer"
   ]
  },
  {
   "cell_type": "markdown",
   "metadata": {},
   "source": [
    "* word of a sentence depends on which other words\n",
    "** ex: modifiers(dog barking)\n",
    "* organize words of a sentence according to their dependencies\n",
    "* All the words are directly or indirectly linked to the root word using links"
   ]
  },
  {
   "cell_type": "markdown",
   "metadata": {},
   "source": [
    "# Implementing Text pre-processing Using NLTK"
   ]
  },
  {
   "cell_type": "code",
   "execution_count": 132,
   "metadata": {},
   "outputs": [
    {
     "name": "stderr",
     "output_type": "stream",
     "text": [
      "[nltk_data] Downloading package punkt to\n",
      "[nltk_data]     C:\\Users\\manum\\AppData\\Roaming\\nltk_data...\n",
      "[nltk_data]   Unzipping tokenizers\\punkt.zip.\n"
     ]
    },
    {
     "data": {
      "text/plain": [
       "True"
      ]
     },
     "execution_count": 132,
     "metadata": {},
     "output_type": "execute_result"
    }
   ],
   "source": [
    "import nltk\n",
    "nltk.download('punkt')"
   ]
  },
  {
   "cell_type": "code",
   "execution_count": 135,
   "metadata": {},
   "outputs": [
    {
     "name": "stdout",
     "output_type": "stream",
     "text": [
      "['Hi jhon, How are you doing?', 'I will be travelling to your city.Lets cathcup']\n",
      "['Hi', 'jhon', ',', 'How', 'are', 'you', 'doing', '?', 'I', 'will', 'be', 'travelling', 'to', 'your', 'city.Lets', 'cathcup']\n"
     ]
    }
   ],
   "source": [
    "## tokenization\n",
    "from nltk.tokenize import sent_tokenize, word_tokenize\n",
    "text=\"Hi jhon, How are you doing? I will be travelling to your city.Lets cathcup\"\n",
    "print(sent_tokenize(text))\n",
    "print(word_tokenize(text))\n"
   ]
  },
  {
   "cell_type": "code",
   "execution_count": 142,
   "metadata": {},
   "outputs": [
    {
     "name": "stdout",
     "output_type": "stream",
     "text": [
      "play\n",
      "play\n",
      "play\n",
      "\n",
      " increas\n"
     ]
    }
   ],
   "source": [
    "# Stemming\n",
    "from nltk.stem import PorterStemmer\n",
    "stemmer=PorterStemmer()\n",
    "print(stemmer.stem('Playing'))\n",
    "print(stemmer.stem('Plays'))\n",
    "print(stemmer.stem('Played'))\n",
    "\n",
    "\n",
    "print(\"\\n\",stemmer.stem('Increases')) # outputs meaningless words"
   ]
  },
  {
   "cell_type": "code",
   "execution_count": 149,
   "metadata": {},
   "outputs": [
    {
     "name": "stdout",
     "output_type": "stream",
     "text": [
      "Increases\n",
      "running\n",
      "run\n"
     ]
    },
    {
     "name": "stderr",
     "output_type": "stream",
     "text": [
      "[nltk_data] Downloading package wordnet to\n",
      "[nltk_data]     C:\\Users\\manum\\AppData\\Roaming\\nltk_data...\n",
      "[nltk_data]   Package wordnet is already up-to-date!\n"
     ]
    }
   ],
   "source": [
    "import nltk\n",
    "nltk.download('wordnet')\n",
    "from nltk.stem import WordNetLemmatizer\n",
    "Lemm=WordNetLemmatizer()\n",
    "print(Lemm.lemmatize('Increases'))\n",
    "print(Lemm.lemmatize('running')) #gives running bcz we haven't defined POS\n",
    "print(Lemm.lemmatize('running',pos='v'))"
   ]
  },
  {
   "cell_type": "code",
   "execution_count": 152,
   "metadata": {},
   "outputs": [
    {
     "name": "stderr",
     "output_type": "stream",
     "text": [
      "[nltk_data] Downloading package averaged_perceptron_tagger to\n",
      "[nltk_data]     C:\\Users\\manum\\AppData\\Roaming\\nltk_data...\n",
      "[nltk_data]   Unzipping taggers\\averaged_perceptron_tagger.zip.\n"
     ]
    },
    {
     "data": {
      "text/plain": [
       "[('Hi', 'NNP'),\n",
       " ('jhon', 'NN'),\n",
       " (',', ','),\n",
       " ('How', 'WRB'),\n",
       " ('are', 'VBP'),\n",
       " ('you', 'PRP'),\n",
       " ('doing', 'VBG'),\n",
       " ('?', '.'),\n",
       " ('I', 'PRP'),\n",
       " ('will', 'MD'),\n",
       " ('be', 'VB'),\n",
       " ('travelling', 'VBG'),\n",
       " ('to', 'TO'),\n",
       " ('your', 'PRP$'),\n",
       " ('city.Lets', 'NNS'),\n",
       " ('cathcup', 'VBP')]"
      ]
     },
     "execution_count": 152,
     "metadata": {},
     "output_type": "execute_result"
    }
   ],
   "source": [
    "import nltk\n",
    "nltk.download('averaged_perceptron_tagger')\n",
    "from nltk import pos_tag\n",
    "text=\"Hi jhon, How are you doing? I will be travelling to your city.Lets cathcup\"\n",
    "tokens=word_tokenize(text)\n",
    "pos_tag(tokens)"
   ]
  },
  {
   "cell_type": "code",
   "execution_count": 153,
   "metadata": {},
   "outputs": [
    {
     "data": {
      "text/plain": [
       "[Synset('good.n.01'),\n",
       " Synset('good.n.02'),\n",
       " Synset('good.n.03'),\n",
       " Synset('commodity.n.01'),\n",
       " Synset('good.a.01'),\n",
       " Synset('full.s.06'),\n",
       " Synset('good.a.03'),\n",
       " Synset('estimable.s.02'),\n",
       " Synset('beneficial.s.01'),\n",
       " Synset('good.s.06'),\n",
       " Synset('good.s.07'),\n",
       " Synset('adept.s.01'),\n",
       " Synset('good.s.09'),\n",
       " Synset('dear.s.02'),\n",
       " Synset('dependable.s.04'),\n",
       " Synset('good.s.12'),\n",
       " Synset('good.s.13'),\n",
       " Synset('effective.s.04'),\n",
       " Synset('good.s.15'),\n",
       " Synset('good.s.16'),\n",
       " Synset('good.s.17'),\n",
       " Synset('good.s.18'),\n",
       " Synset('good.s.19'),\n",
       " Synset('good.s.20'),\n",
       " Synset('good.s.21'),\n",
       " Synset('well.r.01'),\n",
       " Synset('thoroughly.r.02')]"
      ]
     },
     "execution_count": 153,
     "metadata": {},
     "output_type": "execute_result"
    }
   ],
   "source": [
    "from nltk.corpus import wordnet\n",
    "wordnet.synsets('good')"
   ]
  },
  {
   "cell_type": "code",
   "execution_count": 154,
   "metadata": {},
   "outputs": [
    {
     "data": {
      "text/plain": [
       "[Synset('computer.n.01'), Synset('calculator.n.01')]"
      ]
     },
     "execution_count": 154,
     "metadata": {},
     "output_type": "execute_result"
    }
   ],
   "source": [
    "wordnet.synsets('computer')"
   ]
  },
  {
   "cell_type": "code",
   "execution_count": 157,
   "metadata": {},
   "outputs": [
    {
     "data": {
      "text/plain": [
       "<generator object ngrams at 0x0000019E86DAAEC8>"
      ]
     },
     "execution_count": 157,
     "metadata": {},
     "output_type": "execute_result"
    }
   ],
   "source": [
    "from nltk import ngrams\n",
    "sentence=\"I love to play football\"\n",
    "n=2\n",
    "ngrams(word_tokenize(sentence),n)"
   ]
  },
  {
   "cell_type": "code",
   "execution_count": 158,
   "metadata": {},
   "outputs": [
    {
     "name": "stdout",
     "output_type": "stream",
     "text": [
      "('I', 'love')\n",
      "('love', 'to')\n",
      "('to', 'play')\n",
      "('play', 'football')\n"
     ]
    }
   ],
   "source": [
    "for gram in ngrams(word_tokenize(sentence),n):\n",
    "    print(gram)"
   ]
  },
  {
   "cell_type": "markdown",
   "metadata": {},
   "source": [
    "# Build a Basic ML Model for Text Classification"
   ]
  },
  {
   "cell_type": "markdown",
   "metadata": {},
   "source": [
    "* In this notebook, you'll learn how to implement a text classification task using machine learning.\n",
    "* You'll learn to create basic NLP based features that can be created from the text and you'll then test the model on the test data set to evaluate it's performance."
   ]
  },
  {
   "cell_type": "markdown",
   "metadata": {},
   "source": [
    "To make things interesting, the task is to build a machine learning model to classify whether a particular tweet is hate speech or not. so let's start without much ado!"
   ]
  },
  {
   "cell_type": "markdown",
   "metadata": {},
   "source": [
    "# 1. About the Dataset"
   ]
  },
  {
   "cell_type": "markdown",
   "metadata": {},
   "source": [
    "The dataset that you are going to use is of Detecting Hate Speech in people's tweets.Let's load the dataset using pandas and have a quick look at some sample tweets."
   ]
  },
  {
   "cell_type": "code",
   "execution_count": 193,
   "metadata": {},
   "outputs": [
    {
     "name": "stdout",
     "output_type": "stream",
     "text": [
      "<class 'pandas.core.frame.DataFrame'>\n"
     ]
    },
    {
     "data": {
      "text/html": [
       "<div>\n",
       "<style scoped>\n",
       "    .dataframe tbody tr th:only-of-type {\n",
       "        vertical-align: middle;\n",
       "    }\n",
       "\n",
       "    .dataframe tbody tr th {\n",
       "        vertical-align: top;\n",
       "    }\n",
       "\n",
       "    .dataframe thead th {\n",
       "        text-align: right;\n",
       "    }\n",
       "</style>\n",
       "<table border=\"1\" class=\"dataframe\">\n",
       "  <thead>\n",
       "    <tr style=\"text-align: right;\">\n",
       "      <th></th>\n",
       "      <th>id</th>\n",
       "      <th>label</th>\n",
       "      <th>tweet</th>\n",
       "    </tr>\n",
       "  </thead>\n",
       "  <tbody>\n",
       "    <tr>\n",
       "      <td>0</td>\n",
       "      <td>1</td>\n",
       "      <td>0</td>\n",
       "      <td>@user when a father is dysfunctional and is s...</td>\n",
       "    </tr>\n",
       "    <tr>\n",
       "      <td>1</td>\n",
       "      <td>2</td>\n",
       "      <td>0</td>\n",
       "      <td>@user @user thanks for #lyft credit i can't us...</td>\n",
       "    </tr>\n",
       "    <tr>\n",
       "      <td>2</td>\n",
       "      <td>3</td>\n",
       "      <td>0</td>\n",
       "      <td>bihday your majesty</td>\n",
       "    </tr>\n",
       "    <tr>\n",
       "      <td>3</td>\n",
       "      <td>4</td>\n",
       "      <td>0</td>\n",
       "      <td>#model   i love u take with u all the time in ...</td>\n",
       "    </tr>\n",
       "    <tr>\n",
       "      <td>4</td>\n",
       "      <td>5</td>\n",
       "      <td>0</td>\n",
       "      <td>factsguide: society now    #motivation</td>\n",
       "    </tr>\n",
       "  </tbody>\n",
       "</table>\n",
       "</div>"
      ],
      "text/plain": [
       "   id  label                                              tweet\n",
       "0   1      0   @user when a father is dysfunctional and is s...\n",
       "1   2      0  @user @user thanks for #lyft credit i can't us...\n",
       "2   3      0                                bihday your majesty\n",
       "3   4      0  #model   i love u take with u all the time in ...\n",
       "4   5      0             factsguide: society now    #motivation"
      ]
     },
     "execution_count": 193,
     "metadata": {},
     "output_type": "execute_result"
    }
   ],
   "source": [
    "#load the dataset\n",
    "import pandas as pd\n",
    "dataset=pd.read_csv('final_dataset_basicmlmodel.csv')\n",
    "print(type(dataset))\n",
    "dataset.head()"
   ]
  },
  {
   "cell_type": "markdown",
   "metadata": {},
   "source": [
    "# Things to note\n",
    "\n",
    "* label: is the column that contains the target variable or the value that has to be predicted. 1 means it's a hate speech and 0 means it is not.\n",
    "* tweet : is the column that contains the text of the tweet. "
   ]
  },
  {
   "cell_type": "markdown",
   "metadata": {},
   "source": [
    "This is the main data on which NLP techniques will be applied.Let's have a close look at some of the tweets."
   ]
  },
  {
   "cell_type": "code",
   "execution_count": 194,
   "metadata": {},
   "outputs": [
    {
     "name": "stdout",
     "output_type": "stream",
     "text": [
      "1 .  â #ireland consumer price index (mom) climbed from previous 0.2% to 0.5% in may   #blog #silver #gold #forex\n",
      "2 . we are so selfish. #orlando #standwithorlando #pulseshooting #orlandoshooting #biggerproblems #selfish #heabreaking   #values #love #\n",
      "3 . i get to see my daddy today!!   #80days #gettingfed\n",
      "4 . ouch...junior is angryð#got7 #junior #yugyoem   #omg \n",
      "5 . i am thankful for having a paner. #thankful #positive     \n"
     ]
    },
    {
     "data": {
      "text/plain": [
       "pandas.core.series.Series"
      ]
     },
     "execution_count": 194,
     "metadata": {},
     "output_type": "execute_result"
    }
   ],
   "source": [
    "for index,tweet in enumerate(dataset[\"tweet\"][10:15]):\n",
    "    print(index+1,\".\",tweet)\n",
    "type(dataset[\"tweet\"][10:15])"
   ]
  },
  {
   "cell_type": "markdown",
   "metadata": {},
   "source": [
    "## Note :- Noise present in Tweets\n",
    "\n",
    "* If you look closely, you'll see that there are many hashtags present in the tweets of the form # symbol followed by text. We particularly don't need the # symbol so we will clean it out.\n",
    "* Also, there are strange symbols like â and ð in tweet 4. This is actually unicode characters that is present in our dataset that we need to get rid of because they don't particularly add anything meaningful.\n",
    "* There are also numerals and percentages ."
   ]
  },
  {
   "cell_type": "markdown",
   "metadata": {},
   "source": [
    "# 2. Data Cleaning"
   ]
  },
  {
   "cell_type": "markdown",
   "metadata": {},
   "source": [
    "Let's clean up the noise in our dataset."
   ]
  },
  {
   "cell_type": "code",
   "execution_count": 195,
   "metadata": {},
   "outputs": [],
   "source": [
    "import re\n",
    "\n",
    "# clean text from noise\n",
    "def clean_text(text):\n",
    "    #Filter to allow only alphabets\n",
    "    text = re.sub(r'[^a-zA-Z\\']', ' ', text)\n",
    "    \n",
    "    #Remove Unicode characters\n",
    "    text = re.sub(r'[^\\x00-\\x7F]+', '', text)\n",
    "    \n",
    "    #Convert to lowercase to maintain consistency\n",
    "    text = text.lower()\n",
    "    \n",
    "    return text"
   ]
  },
  {
   "cell_type": "code",
   "execution_count": 196,
   "metadata": {},
   "outputs": [],
   "source": [
    "dataset['clean_text']=dataset.tweet.apply(lambda x: clean_text(x))"
   ]
  },
  {
   "cell_type": "markdown",
   "metadata": {},
   "source": [
    "# 3. Feature Engineering\n",
    "* Feature engineering is the science (and art) of extracting more information from existing data. You are not adding any new data here, but you are actually making the data you already have more useful.\n",
    "* The machine learning model does not understand text directly, so we create numerical features that reperesant the underlying text."
   ]
  },
  {
   "cell_type": "code",
   "execution_count": 198,
   "metadata": {},
   "outputs": [],
   "source": [
    "#Exhaustive list of stopwords in the english language. We want to focus less on these so at some point will have to filter\n",
    "STOP_WORDS = ['a', 'about', 'above', 'after', 'again', 'against', 'all', 'also', 'am', 'an', 'and',\n",
    "              'any', 'are', \"aren't\", 'as', 'at', 'be', 'because', 'been', 'before', 'being', 'below',\n",
    "              'between', 'both', 'but', 'by', 'can', \"can't\", 'cannot', 'com', 'could', \"couldn't\", 'did',\n",
    "              \"didn't\", 'do', 'does', \"doesn't\", 'doing', \"don't\", 'down', 'during', 'each', 'else', 'ever',\n",
    "              'few', 'for', 'from', 'further', 'get', 'had', \"hadn't\", 'has', \"hasn't\", 'have', \"haven't\", 'having',\n",
    "              'he', \"he'd\", \"he'll\", \"he's\", 'her', 'here', \"here's\", 'hers', 'herself', 'him', 'himself', 'his', 'how',\n",
    "              \"how's\", 'however', 'http', 'i', \"i'd\", \"i'll\", \"i'm\", \"i've\", 'if', 'in', 'into', 'is', \"isn't\", 'it',\n",
    "              \"it's\", 'its', 'itself', 'just', 'k', \"let's\", 'like', 'me', 'more', 'most', \"mustn't\", 'my', 'myself',\n",
    "              'no', 'nor', 'not', 'of', 'off', 'on', 'once', 'only', 'or', 'other', 'otherwise', 'ought', 'our', 'ours',\n",
    "              'ourselves', 'out', 'over', 'own', 'r', 'same', 'shall', \"shan't\", 'she', \"she'd\", \"she'll\", \"she's\",\n",
    "              'should', \"shouldn't\", 'since', 'so', 'some', 'such', 'than', 'that', \"that's\", 'the', 'their', 'theirs',\n",
    "              'them', 'themselves', 'then', 'there', \"there's\", 'these', 'they', \"they'd\", \"they'll\", \"they're\",\n",
    "              \"they've\", 'this', 'those', 'through', 'to', 'too', 'under', 'until', 'up', 'very', 'was', \"wasn't\",\n",
    "              'we', \"we'd\", \"we'll\", \"we're\", \"we've\", 'were', \"weren't\", 'what', \"what's\", 'when', \"when's\", 'where',\n",
    "              \"where's\", 'which', 'while', 'who', \"who's\", 'whom', 'why', \"why's\", 'with', \"won't\", 'would', \"wouldn't\",\n",
    "              'www', 'you', \"you'd\", \"you'll\", \"you're\", \"you've\", 'your', 'yours', 'yourself', 'yourselves']\n",
    "\n",
    "\n",
    "#Generate word frequency\n",
    "def gen_freq(text):\n",
    "    #Will store the list of words\n",
    "    word_list = []\n",
    "\n",
    "    #Loop over all the tweets and extract words into word_list\n",
    "    for tw_words in text.split():\n",
    "        word_list.extend(tw_words)\n",
    "\n",
    "    #Create word frequencies using word_list\n",
    "    word_freq = pd.Series(word_list).value_counts()\n",
    "    \n",
    "    #Drop the stopwords during the frequency calculation\n",
    "    word_freq = word_freq.drop(STOP_WORDS, errors='ignore')\n",
    "    \n",
    "    return word_freq\n",
    "\n",
    "#Check whether a negation term is present in the text\n",
    "def any_neg(words):\n",
    "    for word in words:\n",
    "        if word in ['n', 'no', 'non', 'not'] or re.search(r\"\\wn't\", word):\n",
    "            return 1\n",
    "    else:\n",
    "        return 0\n",
    "\n",
    "#Check whether one of the 100 rare words is present in the text\n",
    "def any_rare(words, rare_100):\n",
    "    for word in words:\n",
    "        if word in rare_100:\n",
    "            return 1\n",
    "    else:\n",
    "        return 0\n",
    "\n",
    "#Check whether prompt words are present\n",
    "def is_question(words):\n",
    "    for word in words:\n",
    "        if word in ['when', 'what', 'how', 'why', 'who']:\n",
    "            return 1\n",
    "    else:\n",
    "        return 0\n"
   ]
  },
  {
   "cell_type": "code",
   "execution_count": 199,
   "metadata": {},
   "outputs": [],
   "source": [
    "word_freq = gen_freq(dataset.clean_text.str)\n",
    "#100 most rare words in the dataset\n",
    "rare_100 = word_freq[-100:]\n",
    "#Number of words in a tweet\n",
    "dataset['word_count'] = dataset.clean_text.str.split().apply(lambda x: len(x))\n",
    "#Negation present or not\n",
    "dataset['any_neg'] = dataset.clean_text.str.split().apply(lambda x: any_neg(x))\n",
    "#Prompt present or not\n",
    "dataset['is_question'] = dataset.clean_text.str.split().apply(lambda x: is_question(x))\n",
    "#Any of the most 100 rare words present or not\n",
    "dataset['any_rare'] = dataset.clean_text.str.split().apply(lambda x: any_rare(x, rare_100))\n",
    "#Character count of the tweet\n",
    "dataset['char_count'] = dataset.clean_text.apply(lambda x: len(x))"
   ]
  },
  {
   "cell_type": "code",
   "execution_count": 201,
   "metadata": {},
   "outputs": [
    {
     "data": {
      "text/plain": [
       "user      3351\n",
       "amp        439\n",
       "love       320\n",
       "day        254\n",
       "trump      214\n",
       "happy      207\n",
       "will       191\n",
       "people     186\n",
       "new        171\n",
       "u          158\n",
       "dtype: int64"
      ]
     },
     "execution_count": 201,
     "metadata": {},
     "output_type": "execute_result"
    }
   ],
   "source": [
    "#Top 10 common words are\n",
    "gen_freq(dataset.clean_text.str)[:10]"
   ]
  },
  {
   "cell_type": "code",
   "execution_count": 202,
   "metadata": {},
   "outputs": [
    {
     "data": {
      "text/html": [
       "<div>\n",
       "<style scoped>\n",
       "    .dataframe tbody tr th:only-of-type {\n",
       "        vertical-align: middle;\n",
       "    }\n",
       "\n",
       "    .dataframe tbody tr th {\n",
       "        vertical-align: top;\n",
       "    }\n",
       "\n",
       "    .dataframe thead th {\n",
       "        text-align: right;\n",
       "    }\n",
       "</style>\n",
       "<table border=\"1\" class=\"dataframe\">\n",
       "  <thead>\n",
       "    <tr style=\"text-align: right;\">\n",
       "      <th></th>\n",
       "      <th>id</th>\n",
       "      <th>label</th>\n",
       "      <th>tweet</th>\n",
       "      <th>clean_text</th>\n",
       "      <th>word_count</th>\n",
       "      <th>any_neg</th>\n",
       "      <th>is_question</th>\n",
       "      <th>any_rare</th>\n",
       "      <th>char_count</th>\n",
       "    </tr>\n",
       "  </thead>\n",
       "  <tbody>\n",
       "    <tr>\n",
       "      <td>0</td>\n",
       "      <td>1</td>\n",
       "      <td>0</td>\n",
       "      <td>@user when a father is dysfunctional and is s...</td>\n",
       "      <td>user when a father is dysfunctional and is s...</td>\n",
       "      <td>18</td>\n",
       "      <td>0</td>\n",
       "      <td>1</td>\n",
       "      <td>0</td>\n",
       "      <td>102</td>\n",
       "    </tr>\n",
       "    <tr>\n",
       "      <td>1</td>\n",
       "      <td>2</td>\n",
       "      <td>0</td>\n",
       "      <td>@user @user thanks for #lyft credit i can't us...</td>\n",
       "      <td>user  user thanks for  lyft credit i can't us...</td>\n",
       "      <td>19</td>\n",
       "      <td>1</td>\n",
       "      <td>0</td>\n",
       "      <td>0</td>\n",
       "      <td>122</td>\n",
       "    </tr>\n",
       "    <tr>\n",
       "      <td>2</td>\n",
       "      <td>3</td>\n",
       "      <td>0</td>\n",
       "      <td>bihday your majesty</td>\n",
       "      <td>bihday your majesty</td>\n",
       "      <td>3</td>\n",
       "      <td>0</td>\n",
       "      <td>0</td>\n",
       "      <td>0</td>\n",
       "      <td>21</td>\n",
       "    </tr>\n",
       "    <tr>\n",
       "      <td>3</td>\n",
       "      <td>4</td>\n",
       "      <td>0</td>\n",
       "      <td>#model   i love u take with u all the time in ...</td>\n",
       "      <td>model   i love u take with u all the time in ...</td>\n",
       "      <td>12</td>\n",
       "      <td>0</td>\n",
       "      <td>0</td>\n",
       "      <td>0</td>\n",
       "      <td>86</td>\n",
       "    </tr>\n",
       "    <tr>\n",
       "      <td>4</td>\n",
       "      <td>5</td>\n",
       "      <td>0</td>\n",
       "      <td>factsguide: society now    #motivation</td>\n",
       "      <td>factsguide  society now     motivation</td>\n",
       "      <td>4</td>\n",
       "      <td>0</td>\n",
       "      <td>0</td>\n",
       "      <td>0</td>\n",
       "      <td>39</td>\n",
       "    </tr>\n",
       "  </tbody>\n",
       "</table>\n",
       "</div>"
      ],
      "text/plain": [
       "   id  label                                              tweet  \\\n",
       "0   1      0   @user when a father is dysfunctional and is s...   \n",
       "1   2      0  @user @user thanks for #lyft credit i can't us...   \n",
       "2   3      0                                bihday your majesty   \n",
       "3   4      0  #model   i love u take with u all the time in ...   \n",
       "4   5      0             factsguide: society now    #motivation   \n",
       "\n",
       "                                          clean_text  word_count  any_neg  \\\n",
       "0    user when a father is dysfunctional and is s...          18        0   \n",
       "1   user  user thanks for  lyft credit i can't us...          19        1   \n",
       "2                                bihday your majesty           3        0   \n",
       "3   model   i love u take with u all the time in ...          12        0   \n",
       "4             factsguide  society now     motivation           4        0   \n",
       "\n",
       "   is_question  any_rare  char_count  \n",
       "0            1         0         102  \n",
       "1            0         0         122  \n",
       "2            0         0          21  \n",
       "3            0         0          86  \n",
       "4            0         0          39  "
      ]
     },
     "execution_count": 202,
     "metadata": {},
     "output_type": "execute_result"
    }
   ],
   "source": [
    "dataset.head()"
   ]
  },
  {
   "cell_type": "markdown",
   "metadata": {},
   "source": [
    "# Splitting the dataset into Train-Test split\n",
    "* The dataset is split into train and test sets so that we can evaluate our model's performance on unseen data.\n",
    "* The model will only be trained on the train set and will make predictions on the test set whose data points the model has never seen. This will make sure that we have a proper way to test the model.\n",
    "* This is a pretty regular practice in Machine Learning, don't worry if you are confused. It's just a way of testing your model's performance on unseen data."
   ]
  },
  {
   "cell_type": "code",
   "execution_count": 203,
   "metadata": {},
   "outputs": [],
   "source": [
    "from sklearn.model_selection import train_test_split\n",
    "\n",
    "X = dataset[['word_count', 'any_neg', 'any_rare', 'char_count', 'is_question']]\n",
    "y = dataset.label\n",
    "\n",
    "X_train, X_test, y_train, y_test = train_test_split(X, y, test_size=0.1, random_state=27)"
   ]
  },
  {
   "cell_type": "markdown",
   "metadata": {},
   "source": [
    "# 4. Train an ML model for Text Classification\n",
    "* Now that the dataset is ready, it is time to train a Machine Learning model on the same. You will be using a Naive Bayes classifier from sklearn which is a prominent python library used for machine learning."
   ]
  },
  {
   "cell_type": "code",
   "execution_count": 204,
   "metadata": {},
   "outputs": [],
   "source": [
    "from sklearn.naive_bayes import GaussianNB\n",
    "\n",
    "#Initialize GaussianNB classifier\n",
    "model = GaussianNB()\n",
    "#Fit the model on the train dataset\n",
    "model = model.fit(X_train, y_train)\n",
    "#Make predictions on the test dataset\n",
    "pred = model.predict(X_test)\n"
   ]
  },
  {
   "cell_type": "markdown",
   "metadata": {},
   "source": [
    "# 5. Evaluate the ML model\n",
    "* It is time to train the model on previously unseen data: X_test and y_test sets that you previously created. Let's check the accuracy of the model."
   ]
  },
  {
   "cell_type": "code",
   "execution_count": 205,
   "metadata": {},
   "outputs": [
    {
     "name": "stdout",
     "output_type": "stream",
     "text": [
      "Accuracy: 59.61904761904761 %\n"
     ]
    }
   ],
   "source": [
    "from sklearn.metrics import accuracy_score\n",
    "\n",
    "print(\"Accuracy:\", accuracy_score(y_test, pred)*100, \"%\")"
   ]
  },
  {
   "cell_type": "markdown",
   "metadata": {},
   "source": [
    "# 6. Conclusion\n",
    "* Note: that since we have used very basic NLP features, the classification accuracy and f1 scores aren't that impressive. The goal of this exercise was to make you familiar with the model building process and I hope that you have a better idea on how to build a text classification model."
   ]
  },
  {
   "cell_type": "code",
   "execution_count": null,
   "metadata": {},
   "outputs": [],
   "source": []
  }
 ],
 "metadata": {
  "kernelspec": {
   "display_name": "Python 3",
   "language": "python",
   "name": "python3"
  },
  "language_info": {
   "codemirror_mode": {
    "name": "ipython",
    "version": 3
   },
   "file_extension": ".py",
   "mimetype": "text/x-python",
   "name": "python",
   "nbconvert_exporter": "python",
   "pygments_lexer": "ipython3",
   "version": "3.7.4"
  }
 },
 "nbformat": 4,
 "nbformat_minor": 2
}
